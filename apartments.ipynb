{
 "cells": [
  {
   "cell_type": "code",
   "execution_count": 20,
   "metadata": {},
   "outputs": [],
   "source": [
    "import undetected_chromedriver as uc\n",
    "from selenium.webdriver.remote.webdriver import By\n",
    "import pandas as pd\n",
    "from bs4 import BeautifulSoup\n",
    "from tqdm import tqdm\n",
    "import re"
   ]
  },
  {
   "cell_type": "markdown",
   "metadata": {},
   "source": [
    "## Zillow Zip Search"
   ]
  },
  {
   "cell_type": "code",
   "execution_count": 2,
   "metadata": {},
   "outputs": [],
   "source": [
    "def clean_prices(price):\n",
    "    return int(price.replace(\"$\", \"\").replace(\",\", \"\"))\n",
    "\n",
    "def zip_avg_price(zip):\n",
    "    # Verify input is correct format\n",
    "    if len(zip) != 5 or not zip.isdigit() or not isinstance(zip, str):\n",
    "        raise ValueError(\"Zip must be a 5 digit string!\")\n",
    "    \n",
    "    # Instantiate Chrome driver and send GET request\n",
    "    driver = uc.Chrome()\n",
    "    url = f\"https://www.zillow.com/homes/{zip}/\"\n",
    "    driver.get(url)\n",
    "\n",
    "    # Identify property listing prices\n",
    "    prices = []\n",
    "    for span in driver.find_elements_recursive(by=By.TAG_NAME, value=\"span\"):\n",
    "        attr = span.get_attribute(name=\"data-test\")\n",
    "        if attr == \"property-card-price\":\n",
    "            prices.append(span.text)\n",
    "    \n",
    "    # Close driver\n",
    "    driver.close()\n",
    "    \n",
    "    # Cast prices to integers\n",
    "    prices = [clean_prices(p) for p in prices]\n",
    "\n",
    "    # Compute average property price\n",
    "    avg_price = sum(prices)/len(prices)\n",
    "\n",
    "\n",
    "    return avg_price"
   ]
  },
  {
   "cell_type": "code",
   "execution_count": 3,
   "metadata": {},
   "outputs": [
    {
     "data": {
      "text/plain": [
       "551542.8571428572"
      ]
     },
     "execution_count": 3,
     "metadata": {},
     "output_type": "execute_result"
    }
   ],
   "source": [
    "zip_avg_price(\"07662\")"
   ]
  },
  {
   "cell_type": "markdown",
   "metadata": {},
   "source": [
    "## Apartments City Search"
   ]
  },
  {
   "cell_type": "code",
   "execution_count": 5,
   "metadata": {},
   "outputs": [],
   "source": [
    "\n",
    "city = \"manhattan-ny\"\n",
    "url = f\"https://www.apartments.com/{city}/\"\n",
    "driver = uc.Chrome()\n",
    "driver.get(url)"
   ]
  },
  {
   "cell_type": "code",
   "execution_count": 11,
   "metadata": {},
   "outputs": [],
   "source": [
    "my_soup = BeautifulSoup(driver.page_source)"
   ]
  },
  {
   "cell_type": "code",
   "execution_count": 13,
   "metadata": {
    "scrolled": true
   },
   "outputs": [
    {
     "data": {
      "text/plain": [
       "['https://www.apartments.com/manhattan-ny/',\n",
       " 'https://www.apartments.com/manhattan-ny/2/',\n",
       " 'https://www.apartments.com/manhattan-ny/3/',\n",
       " 'https://www.apartments.com/manhattan-ny/4/',\n",
       " 'https://www.apartments.com/manhattan-ny/5/']"
      ]
     },
     "execution_count": 13,
     "metadata": {},
     "output_type": "execute_result"
    }
   ],
   "source": [
    "def is_valid_url(url):\n",
    "    return isinstance(url, str) and url.startswith('https://')\n",
    "\n",
    "def first_five_pages(soup, url):\n",
    "    nav = soup.find('nav', {'id': 'paging'})\n",
    "    if nav:\n",
    "        return [url] + [page.get('href') for page in nav.find_all('a') if is_valid_url(page.get('href'))]\n",
    "\n",
    "first_five_pages(my_soup, url)"
   ]
  },
  {
   "cell_type": "code",
   "execution_count": 14,
   "metadata": {},
   "outputs": [],
   "source": [
    "def get_page_listings(soup):\n",
    "    listings = my_soup.find('div', {'id': 'placardContainer'}).find('ul').find_all('li', {'class': 'mortar-wrapper'})\n",
    "    return [listing.find('a', {'class': 'property-link'}).get('href') for listing in listings]\n",
    "\n",
    "listing_urls = get_page_listings(my_soup)"
   ]
  },
  {
   "cell_type": "markdown",
   "metadata": {},
   "source": [
    "### Listing"
   ]
  },
  {
   "cell_type": "code",
   "execution_count": 17,
   "metadata": {},
   "outputs": [],
   "source": [
    "def parse_floor_plan_info(soup):\n",
    "    \"\"\"\n",
    "    soup: floor plan soup\n",
    "    \"\"\"\n",
    "    floor_plan_info = soup.find('span', {'class': 'detailsTextWrapper'}).text.split(',')\n",
    "    bed = floor_plan_info[0].strip()\n",
    "    bath = floor_plan_info[1].strip()\n",
    "    sqft = floor_plan_info[2].strip() if len(floor_plan_info) >= 3 else None\n",
    "    features_elem = soup.find('div', {'class': 'unitDetails'})\n",
    "    \n",
    "    if features_elem:\n",
    "        features = [elem.text.strip() for elem in features_elem.find('ul', {'class': 'allAmenities'}).find('ul').find_all('li')]\n",
    "    else:\n",
    "        features = []\n",
    "    \n",
    "    return bed, bath, sqft, features\n",
    "\n",
    "def parse_unit_info(soup):\n",
    "    \"\"\"\n",
    "    soup: unit soup\n",
    "    \"\"\"\n",
    "    unit_info = soup.find('div', {'class': 'grid-container js-unitExtension'}).find_all('div', {'class': re.compile('column')})\n",
    "    unit_id = unit_info[0].find('button', {'class': 'unitBtn active'}).contents[-1].strip()\n",
    "    price = unit_info[1].find_all('span')[-1].text.strip()\n",
    "    sqft2 = unit_info[2].find_all('span')[-1].text.strip()\n",
    "    availability = unit_info[3].find('span', {'class': 'dateAvailable'}).contents[-1].strip()\n",
    "    \n",
    "    return unit_id, price, sqft2, availability\n",
    "\n",
    "def get_listing_units(soup):\n",
    "    \"\"\"\n",
    "    Loops through floor plans and corresponding units for a given listing\n",
    "    \n",
    "    soup: listing soup\n",
    "    \"\"\"\n",
    "    listing_units = []\n",
    "    floor_plans = listing_soup.find('div', {'data-tab-content-id': 'all'}).find_all('div', {'class': 'pricingGridItem multiFamily hasUnitGrid'})\n",
    "    for floor_plan in floor_plans:\n",
    "        # Get floor plan-level info\n",
    "        bed, bath, sqft, features = parse_floor_plan_info(floor_plan)\n",
    "        units = floor_plan.find('div', {'class': 'unitGridContainer mortar-wrapper'}).find('ul').find_all('li')\n",
    "        for unit in units:\n",
    "            # Get unit-level info\n",
    "            unit_id, price, sqft2, availability = parse_unit_info(unit)\n",
    "            unit_dict = {'unit_id': unit_id,\n",
    "                         'bed': bed,\n",
    "                         'bath': bath,\n",
    "                         'price': price,\n",
    "                         'sqft': sqft2 if sqft2 else sqft, # sqft can come from floor plan info and/or unit info; prioritize unit info\n",
    "                         'availability': availability,\n",
    "                         'features': features}\n",
    "            listing_units.append(unit_dict)\n",
    "    \n",
    "    return listing_units"
   ]
  },
  {
   "cell_type": "code",
   "execution_count": 24,
   "metadata": {},
   "outputs": [],
   "source": [
    "all_units = []\n",
    "for url in tqdm(listing_urls):\n",
    "    print(url)\n",
    "    driver.get(url)\n",
    "    listing_soup = BeautifulSoup(driver.page_source)\n",
    "    listing_units = get_listing_units(listing_soup)\n",
    "    all_units.extend(listing_units)"
   ]
  },
  {
   "cell_type": "code",
   "execution_count": 22,
   "metadata": {},
   "outputs": [],
   "source": [
    "df = pd.DataFrame(all_units)"
   ]
  },
  {
   "cell_type": "code",
   "execution_count": 23,
   "metadata": {},
   "outputs": [
    {
     "data": {
      "text/html": [
       "<div>\n",
       "<style scoped>\n",
       "    .dataframe tbody tr th:only-of-type {\n",
       "        vertical-align: middle;\n",
       "    }\n",
       "\n",
       "    .dataframe tbody tr th {\n",
       "        vertical-align: top;\n",
       "    }\n",
       "\n",
       "    .dataframe thead th {\n",
       "        text-align: right;\n",
       "    }\n",
       "</style>\n",
       "<table border=\"1\" class=\"dataframe\">\n",
       "  <thead>\n",
       "    <tr style=\"text-align: right;\">\n",
       "      <th></th>\n",
       "      <th>unit_id</th>\n",
       "      <th>bed</th>\n",
       "      <th>bath</th>\n",
       "      <th>price</th>\n",
       "      <th>sqft</th>\n",
       "      <th>availability</th>\n",
       "      <th>features</th>\n",
       "    </tr>\n",
       "  </thead>\n",
       "  <tbody>\n",
       "    <tr>\n",
       "      <th>0</th>\n",
       "      <td></td>\n",
       "      <td>Studio</td>\n",
       "      <td>1 bath</td>\n",
       "      <td>$3,150</td>\n",
       "      <td>501</td>\n",
       "      <td>Oct 15</td>\n",
       "      <td>[Air Conditioning, Washer/Dryer, Heating]</td>\n",
       "    </tr>\n",
       "    <tr>\n",
       "      <th>1</th>\n",
       "      <td></td>\n",
       "      <td>1 bed</td>\n",
       "      <td>1 bath</td>\n",
       "      <td>$3,595</td>\n",
       "      <td>661</td>\n",
       "      <td>Oct 1</td>\n",
       "      <td>[Air Conditioning, Washer/Dryer, Heating]</td>\n",
       "    </tr>\n",
       "    <tr>\n",
       "      <th>2</th>\n",
       "      <td></td>\n",
       "      <td>1 bed</td>\n",
       "      <td>1 bath</td>\n",
       "      <td>$3,750</td>\n",
       "      <td>648</td>\n",
       "      <td>Oct 1</td>\n",
       "      <td>[Air Conditioning, Washer/Dryer, Heating]</td>\n",
       "    </tr>\n",
       "    <tr>\n",
       "      <th>3</th>\n",
       "      <td></td>\n",
       "      <td>1 bed</td>\n",
       "      <td>1 bath</td>\n",
       "      <td>$3,785</td>\n",
       "      <td>647</td>\n",
       "      <td>Oct 1</td>\n",
       "      <td>[Air Conditioning, Washer/Dryer, Heating]</td>\n",
       "    </tr>\n",
       "    <tr>\n",
       "      <th>4</th>\n",
       "      <td></td>\n",
       "      <td>2 beds</td>\n",
       "      <td>1 bath</td>\n",
       "      <td>$5,050</td>\n",
       "      <td>840</td>\n",
       "      <td>Oct 1</td>\n",
       "      <td>[Air Conditioning, Washer/Dryer, Heating]</td>\n",
       "    </tr>\n",
       "    <tr>\n",
       "      <th>5</th>\n",
       "      <td></td>\n",
       "      <td>2 beds</td>\n",
       "      <td>2 baths</td>\n",
       "      <td>$5,375</td>\n",
       "      <td>1,103</td>\n",
       "      <td>Oct 1</td>\n",
       "      <td>[Air Conditioning, Washer/Dryer, Heating]</td>\n",
       "    </tr>\n",
       "    <tr>\n",
       "      <th>6</th>\n",
       "      <td></td>\n",
       "      <td>2 beds</td>\n",
       "      <td>2 baths</td>\n",
       "      <td>$5,495</td>\n",
       "      <td>1,073</td>\n",
       "      <td>Oct 1</td>\n",
       "      <td>[Air Conditioning, Washer/Dryer, Heating]</td>\n",
       "    </tr>\n",
       "  </tbody>\n",
       "</table>\n",
       "</div>"
      ],
      "text/plain": [
       "  unit_id     bed     bath   price   sqft availability  \\\n",
       "0          Studio   1 bath  $3,150    501       Oct 15   \n",
       "1           1 bed   1 bath  $3,595    661        Oct 1   \n",
       "2           1 bed   1 bath  $3,750    648        Oct 1   \n",
       "3           1 bed   1 bath  $3,785    647        Oct 1   \n",
       "4          2 beds   1 bath  $5,050    840        Oct 1   \n",
       "5          2 beds  2 baths  $5,375  1,103        Oct 1   \n",
       "6          2 beds  2 baths  $5,495  1,073        Oct 1   \n",
       "\n",
       "                                    features  \n",
       "0  [Air Conditioning, Washer/Dryer, Heating]  \n",
       "1  [Air Conditioning, Washer/Dryer, Heating]  \n",
       "2  [Air Conditioning, Washer/Dryer, Heating]  \n",
       "3  [Air Conditioning, Washer/Dryer, Heating]  \n",
       "4  [Air Conditioning, Washer/Dryer, Heating]  \n",
       "5  [Air Conditioning, Washer/Dryer, Heating]  \n",
       "6  [Air Conditioning, Washer/Dryer, Heating]  "
      ]
     },
     "execution_count": 23,
     "metadata": {},
     "output_type": "execute_result"
    }
   ],
   "source": [
    "df"
   ]
  },
  {
   "cell_type": "code",
   "execution_count": 1,
   "metadata": {},
   "outputs": [],
   "source": [
    "driver.close()"
   ]
  },
  {
   "cell_type": "code",
   "execution_count": null,
   "metadata": {},
   "outputs": [],
   "source": []
  }
 ],
 "metadata": {
  "kernelspec": {
   "display_name": "Python 3 (ipykernel)",
   "language": "python",
   "name": "python3"
  },
  "language_info": {
   "codemirror_mode": {
    "name": "ipython",
    "version": 3
   },
   "file_extension": ".py",
   "mimetype": "text/x-python",
   "name": "python",
   "nbconvert_exporter": "python",
   "pygments_lexer": "ipython3",
   "version": "3.10.4"
  }
 },
 "nbformat": 4,
 "nbformat_minor": 2
}
