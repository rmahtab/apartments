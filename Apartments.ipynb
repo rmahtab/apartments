{
 "cells": [
  {
   "cell_type": "code",
   "execution_count": 220,
   "metadata": {},
   "outputs": [],
   "source": [
    "import undetected_chromedriver as uc\n",
    "from bs4 import BeautifulSoup\n",
    "import re\n",
    "import pandas as pd\n",
    "from tqdm import tqdm"
   ]
  },
  {
   "cell_type": "code",
   "execution_count": 208,
   "metadata": {},
   "outputs": [],
   "source": [
    "driver = uc.Chrome()"
   ]
  },
  {
   "cell_type": "markdown",
   "metadata": {},
   "source": [
    "## City Search"
   ]
  },
  {
   "cell_type": "code",
   "execution_count": 5,
   "metadata": {},
   "outputs": [],
   "source": [
    "URL = \"https://www.apartments.com/manhattan-ny/\""
   ]
  },
  {
   "cell_type": "code",
   "execution_count": 6,
   "metadata": {},
   "outputs": [],
   "source": [
    "driver.get(URL)"
   ]
  },
  {
   "cell_type": "code",
   "execution_count": 18,
   "metadata": {},
   "outputs": [],
   "source": [
    "my_soup = BeautifulSoup(driver.get(URL))"
   ]
  },
  {
   "cell_type": "code",
   "execution_count": 30,
   "metadata": {
    "scrolled": true
   },
   "outputs": [
    {
     "data": {
      "text/plain": [
       "['https://www.apartments.com/manhattan-ny/',\n",
       " 'https://www.apartments.com/manhattan-ny/2/',\n",
       " 'https://www.apartments.com/manhattan-ny/3/',\n",
       " 'https://www.apartments.com/manhattan-ny/4/',\n",
       " 'https://www.apartments.com/manhattan-ny/5/']"
      ]
     },
     "execution_count": 30,
     "metadata": {},
     "output_type": "execute_result"
    }
   ],
   "source": [
    "def is_valid_url(url):\n",
    "    return isinstance(url, str) and url.startswith('https://')\n",
    "\n",
    "def first_five_pages(soup):\n",
    "    nav = soup.find('nav', {'id': 'paging'})\n",
    "    if nav:\n",
    "        return [URL] + [page.get('href') for page in nav.find_all('a') if is_valid_url(page.get('href'))]\n",
    "\n",
    "first_five_pages(my_soup)"
   ]
  },
  {
   "cell_type": "code",
   "execution_count": 189,
   "metadata": {},
   "outputs": [],
   "source": [
    "def get_page_listings(soup):\n",
    "    listings = my_soup.find('div', {'id': 'placardContainer'}).find('ul').find_all('li', {'class': 'mortar-wrapper'})\n",
    "    return [listing.find('a', {'class': 'property-link'}).get('href') for listing in listings]\n",
    "\n",
    "listing_urls = get_page_listings(my_soup)"
   ]
  },
  {
   "cell_type": "code",
   "execution_count": 190,
   "metadata": {},
   "outputs": [
    {
     "data": {
      "text/plain": [
       "25"
      ]
     },
     "execution_count": 190,
     "metadata": {},
     "output_type": "execute_result"
    }
   ],
   "source": [
    "len(listings)"
   ]
  },
  {
   "cell_type": "code",
   "execution_count": 191,
   "metadata": {},
   "outputs": [
    {
     "data": {
      "text/plain": [
       "['https://www.apartments.com/lyra-new-york-ny/jjl8rp5/', 'https://www.apartments.com/8-spruce-new-york-ny/1l3y464/', 'https://www.apartments.com/park-towers-south-new-york-ny/xc7j4tn/', 'https://www.apartments.com/eos-new-york-ny/zls36xz/', 'https://www.apartments.com/via-57-west-new-york-ny/7tc4rkx/', 'https://www.apartments.com/70-w-45th-st-new-york-ny/dxtefkl/', 'https://www.apartments.com/20-broad-street-new-york-ny/lvvpj7e/', 'https://www.apartments.com/the-helena-new-york-ny/6het1tr/', 'https://www.apartments.com/frank-57-west-new-york-ny/yh2kx5r/', 'https://www.apartments.com/10-hanover-square-new-york-ny/1wxy6j5/', 'https://www.apartments.com/95-wall-new-york-ny/b815kt8/', 'https://www.apartments.com/180-water-st-new-york-ny/htl8ej0/', 'https://www.apartments.com/63-wall-street-new-york-ny/xq2dqmm/', 'https://www.apartments.com/view-34-new-york-ny/938hg25/', 'https://www.apartments.com/the-smile-new-york-ny/4mjv8tk/', 'https://www.apartments.com/yorkshire-towers-new-york-ny/bzg2v49/', 'https://www.apartments.com/15-w-55th-st-new-york-ny/6zzqlfr/', 'https://www.apartments.com/placemakr-wall-street-new-york-ny/z21l4pz/', 'https://www.apartments.com/11-cooper-st-new-york-ny/sy8cl25/', 'https://www.apartments.com/the-heritage-by-common-new-york-ny/qfl5mvw/', 'https://www.apartments.com/140-riverside-boulevard-manhattan-ny/scgz3h4/', 'https://www.apartments.com/160-riverside-boulevard-manhattan-ny/x7hly3p/', 'https://www.apartments.com/510-west-end-avenue-new-york-ny/9p2xzf4/', 'https://www.apartments.com/535-w-43rd-street-new-york-ny/edbpf5p/', 'https://www.apartments.com/the-buchanan-new-york-ny/z49x5jx/']"
      ]
     },
     "execution_count": 191,
     "metadata": {},
     "output_type": "execute_result"
    }
   ],
   "source": [
    "listing_urls"
   ]
  },
  {
   "cell_type": "markdown",
   "metadata": {},
   "source": [
    "## Listing"
   ]
  },
  {
   "cell_type": "code",
   "execution_count": 222,
   "metadata": {},
   "outputs": [],
   "source": [
    "def parse_floor_plan_info(soup):\n",
    "    \"\"\"\n",
    "    soup: floor plan soup\n",
    "    \"\"\"\n",
    "    floor_plan_info = soup.find('span', {'class': 'detailsTextWrapper'}).text.split(',')\n",
    "    bed = floor_plan_info[0].strip()\n",
    "    bath = floor_plan_info[1].strip()\n",
    "    sqft = floor_plan_info[2].strip() if len(floor_plan_info) >= 3 else None\n",
    "    features_elem = soup.find('div', {'class': 'unitDetails'})\n",
    "    \n",
    "    if features_elem:\n",
    "        features = [elem.text.strip() for elem in features_elem.find('ul', {'class': 'allAmenities'}).find('ul').find_all('li')]\n",
    "    else:\n",
    "        features = []\n",
    "    \n",
    "    return bed, bath, sqft, features\n",
    "\n",
    "def parse_unit_info(soup):\n",
    "    \"\"\"\n",
    "    soup: unit soup\n",
    "    \"\"\"\n",
    "    unit_info = soup.find('div', {'class': 'grid-container js-unitExtension'}).find_all('div', {'class': re.compile('column')})\n",
    "    unit_id = unit_info[0].find('button', {'class': 'unitBtn active'}).contents[-1].strip()\n",
    "    price = unit_info[1].find_all('span')[-1].text.strip()\n",
    "    sqft2 = unit_info[2].find_all('span')[-1].text.strip()\n",
    "    availability = unit_info[3].find('span', {'class': 'dateAvailable'}).contents[-1].strip()\n",
    "    \n",
    "    return unit_id, price, sqft2, availability\n",
    "\n",
    "def get_listing_units(soup):\n",
    "    \"\"\"\n",
    "    Loops through floor plans and corresponding units for a given listing\n",
    "    \n",
    "    soup: listing soup\n",
    "    \"\"\"\n",
    "    listing_units = []\n",
    "    floor_plans = listing_soup.find('div', {'data-tab-content-id': 'all'}).find_all('div', {'class': 'pricingGridItem multiFamily hasUnitGrid'})\n",
    "    for floor_plan in floor_plans:\n",
    "        # Get floor plan-level info\n",
    "        bed, bath, sqft, features = parse_floor_plan_info(floor_plan)\n",
    "        units = floor_plan.find('div', {'class': 'unitGridContainer mortar-wrapper'}).find('ul').find_all('li')\n",
    "        for unit in units:\n",
    "            # Get unit-level info\n",
    "            unit_id, price, sqft2, availability = parse_unit_info(unit)\n",
    "            unit_dict = {'unit_id': unit_id,\n",
    "                         'bed': bed,\n",
    "                         'bath': bath,\n",
    "                         'price': price,\n",
    "                         'sqft': sqft2 if sqft2 else sqft, # sqft can come from floor plan info and/or unit info; prioritize unit info\n",
    "                         'availability': availability,\n",
    "                         'features': features}\n",
    "            listing_units.append(unit_dict)\n",
    "    \n",
    "    return listing_units"
   ]
  },
  {
   "cell_type": "code",
   "execution_count": 223,
   "metadata": {},
   "outputs": [
    {
     "name": "stderr",
     "output_type": "stream",
     "text": [
      "\r",
      "  0%|                                                                                                                                                                           | 0/25 [00:00<?, ?it/s]"
     ]
    },
    {
     "name": "stdout",
     "output_type": "stream",
     "text": [
      "https://www.apartments.com/lyra-new-york-ny/jjl8rp5/\n"
     ]
    },
    {
     "name": "stderr",
     "output_type": "stream",
     "text": [
      "\r",
      "  4%|██████▌                                                                                                                                                            | 1/25 [00:00<00:15,  1.50it/s]"
     ]
    },
    {
     "name": "stdout",
     "output_type": "stream",
     "text": [
      "https://www.apartments.com/8-spruce-new-york-ny/1l3y464/\n"
     ]
    },
    {
     "name": "stderr",
     "output_type": "stream",
     "text": [
      "\r",
      "  8%|█████████████                                                                                                                                                      | 2/25 [00:01<00:15,  1.49it/s]"
     ]
    },
    {
     "name": "stdout",
     "output_type": "stream",
     "text": [
      "https://www.apartments.com/park-towers-south-new-york-ny/xc7j4tn/\n"
     ]
    },
    {
     "name": "stderr",
     "output_type": "stream",
     "text": [
      "\r",
      " 12%|███████████████████▌                                                                                                                                               | 3/25 [00:02<00:15,  1.40it/s]"
     ]
    },
    {
     "name": "stdout",
     "output_type": "stream",
     "text": [
      "https://www.apartments.com/eos-new-york-ny/zls36xz/\n"
     ]
    },
    {
     "name": "stderr",
     "output_type": "stream",
     "text": [
      "\r",
      " 16%|██████████████████████████                                                                                                                                         | 4/25 [00:02<00:14,  1.44it/s]"
     ]
    },
    {
     "name": "stdout",
     "output_type": "stream",
     "text": [
      "https://www.apartments.com/via-57-west-new-york-ny/7tc4rkx/\n"
     ]
    },
    {
     "name": "stderr",
     "output_type": "stream",
     "text": [
      "\r",
      " 20%|████████████████████████████████▌                                                                                                                                  | 5/25 [00:03<00:13,  1.51it/s]"
     ]
    },
    {
     "name": "stdout",
     "output_type": "stream",
     "text": [
      "https://www.apartments.com/70-w-45th-st-new-york-ny/dxtefkl/\n"
     ]
    },
    {
     "name": "stderr",
     "output_type": "stream",
     "text": [
      " 20%|████████████████████████████████▌                                                                                                                                  | 5/25 [00:03<00:15,  1.28it/s]\n"
     ]
    },
    {
     "ename": "AttributeError",
     "evalue": "'NoneType' object has no attribute 'find'",
     "output_type": "error",
     "traceback": [
      "\u001b[0;31m---------------------------------------------------------------------------\u001b[0m",
      "\u001b[0;31mAttributeError\u001b[0m                            Traceback (most recent call last)",
      "\u001b[0;32m/var/folders/0g/r_3652tj0sj5sx9fb2nw_qkr0000gn/T/ipykernel_20282/3498642804.py\u001b[0m in \u001b[0;36m<module>\u001b[0;34m\u001b[0m\n\u001b[1;32m      4\u001b[0m     \u001b[0mdriver\u001b[0m\u001b[0;34m.\u001b[0m\u001b[0mget\u001b[0m\u001b[0;34m(\u001b[0m\u001b[0murl\u001b[0m\u001b[0;34m)\u001b[0m\u001b[0;34m\u001b[0m\u001b[0m\n\u001b[1;32m      5\u001b[0m     \u001b[0mlisting_soup\u001b[0m \u001b[0;34m=\u001b[0m \u001b[0mBeautifulSoup\u001b[0m\u001b[0;34m(\u001b[0m\u001b[0mdriver\u001b[0m\u001b[0;34m.\u001b[0m\u001b[0mpage_source\u001b[0m\u001b[0;34m)\u001b[0m\u001b[0;34m\u001b[0m\u001b[0m\n\u001b[0;32m----> 6\u001b[0;31m     \u001b[0mlisting_units\u001b[0m \u001b[0;34m=\u001b[0m \u001b[0mget_listing_units\u001b[0m\u001b[0;34m(\u001b[0m\u001b[0mlisting_soup\u001b[0m\u001b[0;34m)\u001b[0m\u001b[0;34m\u001b[0m\u001b[0m\n\u001b[0m\u001b[1;32m      7\u001b[0m     \u001b[0mall_units\u001b[0m\u001b[0;34m.\u001b[0m\u001b[0mextend\u001b[0m\u001b[0;34m(\u001b[0m\u001b[0mlisting_units\u001b[0m\u001b[0;34m)\u001b[0m\u001b[0;34m\u001b[0m\u001b[0m\n",
      "\u001b[0;32m/var/folders/0g/r_3652tj0sj5sx9fb2nw_qkr0000gn/T/ipykernel_20282/2945905590.py\u001b[0m in \u001b[0;36mget_listing_units\u001b[0;34m(soup)\u001b[0m\n\u001b[1;32m     38\u001b[0m     \u001b[0;32mfor\u001b[0m \u001b[0mfloor_plan\u001b[0m \u001b[0;32min\u001b[0m \u001b[0mfloor_plans\u001b[0m\u001b[0;34m:\u001b[0m\u001b[0;34m\u001b[0m\u001b[0m\n\u001b[1;32m     39\u001b[0m         \u001b[0;31m# Get floor plan-level info\u001b[0m\u001b[0;34m\u001b[0m\u001b[0;34m\u001b[0m\u001b[0m\n\u001b[0;32m---> 40\u001b[0;31m         \u001b[0mbed\u001b[0m\u001b[0;34m,\u001b[0m \u001b[0mbath\u001b[0m\u001b[0;34m,\u001b[0m \u001b[0msqft\u001b[0m\u001b[0;34m,\u001b[0m \u001b[0mfeatures\u001b[0m \u001b[0;34m=\u001b[0m \u001b[0mparse_floor_plan_info\u001b[0m\u001b[0;34m(\u001b[0m\u001b[0mfloor_plan\u001b[0m\u001b[0;34m)\u001b[0m\u001b[0;34m\u001b[0m\u001b[0m\n\u001b[0m\u001b[1;32m     41\u001b[0m         \u001b[0munits\u001b[0m \u001b[0;34m=\u001b[0m \u001b[0mfloor_plan\u001b[0m\u001b[0;34m.\u001b[0m\u001b[0mfind\u001b[0m\u001b[0;34m(\u001b[0m\u001b[0;34m'div'\u001b[0m\u001b[0;34m,\u001b[0m \u001b[0;34m{\u001b[0m\u001b[0;34m'class'\u001b[0m\u001b[0;34m:\u001b[0m \u001b[0;34m'unitGridContainer mortar-wrapper'\u001b[0m\u001b[0;34m}\u001b[0m\u001b[0;34m)\u001b[0m\u001b[0;34m.\u001b[0m\u001b[0mfind\u001b[0m\u001b[0;34m(\u001b[0m\u001b[0;34m'ul'\u001b[0m\u001b[0;34m)\u001b[0m\u001b[0;34m.\u001b[0m\u001b[0mfind_all\u001b[0m\u001b[0;34m(\u001b[0m\u001b[0;34m'li'\u001b[0m\u001b[0;34m)\u001b[0m\u001b[0;34m\u001b[0m\u001b[0m\n\u001b[1;32m     42\u001b[0m         \u001b[0;32mfor\u001b[0m \u001b[0munit\u001b[0m \u001b[0;32min\u001b[0m \u001b[0munits\u001b[0m\u001b[0;34m:\u001b[0m\u001b[0;34m\u001b[0m\u001b[0m\n",
      "\u001b[0;32m/var/folders/0g/r_3652tj0sj5sx9fb2nw_qkr0000gn/T/ipykernel_20282/2945905590.py\u001b[0m in \u001b[0;36mparse_floor_plan_info\u001b[0;34m(soup)\u001b[0m\n\u001b[1;32m     10\u001b[0m \u001b[0;34m\u001b[0m\u001b[0m\n\u001b[1;32m     11\u001b[0m     \u001b[0;32mif\u001b[0m \u001b[0mfeatures_elem\u001b[0m\u001b[0;34m:\u001b[0m\u001b[0;34m\u001b[0m\u001b[0m\n\u001b[0;32m---> 12\u001b[0;31m         \u001b[0mfeatures\u001b[0m \u001b[0;34m=\u001b[0m \u001b[0;34m[\u001b[0m\u001b[0melem\u001b[0m\u001b[0;34m.\u001b[0m\u001b[0mtext\u001b[0m\u001b[0;34m.\u001b[0m\u001b[0mstrip\u001b[0m\u001b[0;34m(\u001b[0m\u001b[0;34m)\u001b[0m \u001b[0;32mfor\u001b[0m \u001b[0melem\u001b[0m \u001b[0;32min\u001b[0m \u001b[0mfeatures_elem\u001b[0m\u001b[0;34m.\u001b[0m\u001b[0mfind\u001b[0m\u001b[0;34m(\u001b[0m\u001b[0;34m'ul'\u001b[0m\u001b[0;34m,\u001b[0m \u001b[0;34m{\u001b[0m\u001b[0;34m'class'\u001b[0m\u001b[0;34m:\u001b[0m \u001b[0;34m'allAmenities'\u001b[0m\u001b[0;34m}\u001b[0m\u001b[0;34m)\u001b[0m\u001b[0;34m.\u001b[0m\u001b[0mfind\u001b[0m\u001b[0;34m(\u001b[0m\u001b[0;34m'ul'\u001b[0m\u001b[0;34m)\u001b[0m\u001b[0;34m.\u001b[0m\u001b[0mfind_all\u001b[0m\u001b[0;34m(\u001b[0m\u001b[0;34m'li'\u001b[0m\u001b[0;34m)\u001b[0m\u001b[0;34m]\u001b[0m\u001b[0;34m\u001b[0m\u001b[0m\n\u001b[0m\u001b[1;32m     13\u001b[0m     \u001b[0;32melse\u001b[0m\u001b[0;34m:\u001b[0m\u001b[0;34m\u001b[0m\u001b[0m\n\u001b[1;32m     14\u001b[0m         \u001b[0mfeatures\u001b[0m \u001b[0;34m=\u001b[0m \u001b[0;34m[\u001b[0m\u001b[0;34m]\u001b[0m\u001b[0;34m\u001b[0m\u001b[0m\n",
      "\u001b[0;31mAttributeError\u001b[0m: 'NoneType' object has no attribute 'find'"
     ]
    }
   ],
   "source": [
    "all_units = []\n",
    "for url in tqdm(listing_urls):\n",
    "    print(url)\n",
    "    driver.get(url)\n",
    "    listing_soup = BeautifulSoup(driver.page_source)\n",
    "    listing_units = get_listing_units(listing_soup)\n",
    "    all_units.extend(listing_units)"
   ]
  },
  {
   "cell_type": "code",
   "execution_count": 213,
   "metadata": {},
   "outputs": [],
   "source": [
    "df = pd.DataFrame(all_units)"
   ]
  },
  {
   "cell_type": "code",
   "execution_count": 214,
   "metadata": {},
   "outputs": [
    {
     "data": {
      "text/html": [
       "<div>\n",
       "<style scoped>\n",
       "    .dataframe tbody tr th:only-of-type {\n",
       "        vertical-align: middle;\n",
       "    }\n",
       "\n",
       "    .dataframe tbody tr th {\n",
       "        vertical-align: top;\n",
       "    }\n",
       "\n",
       "    .dataframe thead th {\n",
       "        text-align: right;\n",
       "    }\n",
       "</style>\n",
       "<table border=\"1\" class=\"dataframe\">\n",
       "  <thead>\n",
       "    <tr style=\"text-align: right;\">\n",
       "      <th></th>\n",
       "      <th>unit_id</th>\n",
       "      <th>bed</th>\n",
       "      <th>bath</th>\n",
       "      <th>price</th>\n",
       "      <th>sqft</th>\n",
       "      <th>availability</th>\n",
       "      <th>features</th>\n",
       "    </tr>\n",
       "  </thead>\n",
       "  <tbody>\n",
       "    <tr>\n",
       "      <th>0</th>\n",
       "      <td>23D</td>\n",
       "      <td>Studio</td>\n",
       "      <td>1 bath</td>\n",
       "      <td>$3,500</td>\n",
       "      <td>None</td>\n",
       "      <td>Now</td>\n",
       "      <td>[Storage Units, Dishwasher, Microwave, Renovat...</td>\n",
       "    </tr>\n",
       "    <tr>\n",
       "      <th>1</th>\n",
       "      <td>18R</td>\n",
       "      <td>1 bed</td>\n",
       "      <td>1 bath</td>\n",
       "      <td>$4,300</td>\n",
       "      <td>None</td>\n",
       "      <td>Now</td>\n",
       "      <td>[Storage Units, Dishwasher, Microwave, Corner ...</td>\n",
       "    </tr>\n",
       "    <tr>\n",
       "      <th>2</th>\n",
       "      <td>30C</td>\n",
       "      <td>1 bed</td>\n",
       "      <td>1 bath</td>\n",
       "      <td>$4,500</td>\n",
       "      <td>None</td>\n",
       "      <td>Now</td>\n",
       "      <td>[Storage Units, Dishwasher, Microwave, Corner ...</td>\n",
       "    </tr>\n",
       "    <tr>\n",
       "      <th>3</th>\n",
       "      <td>24M</td>\n",
       "      <td>1 bed</td>\n",
       "      <td>1 bath</td>\n",
       "      <td>$4,550</td>\n",
       "      <td>None</td>\n",
       "      <td>Now</td>\n",
       "      <td>[Storage Units, Dishwasher, Microwave, Corner ...</td>\n",
       "    </tr>\n",
       "    <tr>\n",
       "      <th>4</th>\n",
       "      <td>27R</td>\n",
       "      <td>1 bed</td>\n",
       "      <td>1 bath</td>\n",
       "      <td>$4,400</td>\n",
       "      <td>None</td>\n",
       "      <td>Feb. 28</td>\n",
       "      <td>[Storage Units, Dishwasher, Microwave, Corner ...</td>\n",
       "    </tr>\n",
       "    <tr>\n",
       "      <th>5</th>\n",
       "      <td>9L</td>\n",
       "      <td>1 bed</td>\n",
       "      <td>1 bath</td>\n",
       "      <td>$4,800</td>\n",
       "      <td>None</td>\n",
       "      <td>Now</td>\n",
       "      <td>[Storage Units, Dishwasher, Microwave, Hardwoo...</td>\n",
       "    </tr>\n",
       "    <tr>\n",
       "      <th>6</th>\n",
       "      <td>37A</td>\n",
       "      <td>2 beds</td>\n",
       "      <td>2 baths</td>\n",
       "      <td>$6,037</td>\n",
       "      <td>None</td>\n",
       "      <td>Now</td>\n",
       "      <td>[Storage Units, Dishwasher, Microwave, City Vi...</td>\n",
       "    </tr>\n",
       "    <tr>\n",
       "      <th>7</th>\n",
       "      <td>37J</td>\n",
       "      <td>2 beds</td>\n",
       "      <td>2 baths</td>\n",
       "      <td>$6,300</td>\n",
       "      <td>None</td>\n",
       "      <td>Now</td>\n",
       "      <td>[Storage Units, Dishwasher, Microwave, City Vi...</td>\n",
       "    </tr>\n",
       "  </tbody>\n",
       "</table>\n",
       "</div>"
      ],
      "text/plain": [
       "  unit_id     bed     bath   price  sqft availability  \\\n",
       "0     23D  Studio   1 bath  $3,500  None          Now   \n",
       "1     18R   1 bed   1 bath  $4,300  None          Now   \n",
       "2     30C   1 bed   1 bath  $4,500  None          Now   \n",
       "3     24M   1 bed   1 bath  $4,550  None          Now   \n",
       "4     27R   1 bed   1 bath  $4,400  None      Feb. 28   \n",
       "5      9L   1 bed   1 bath  $4,800  None          Now   \n",
       "6     37A  2 beds  2 baths  $6,037  None          Now   \n",
       "7     37J  2 beds  2 baths  $6,300  None          Now   \n",
       "\n",
       "                                            features  \n",
       "0  [Storage Units, Dishwasher, Microwave, Renovat...  \n",
       "1  [Storage Units, Dishwasher, Microwave, Corner ...  \n",
       "2  [Storage Units, Dishwasher, Microwave, Corner ...  \n",
       "3  [Storage Units, Dishwasher, Microwave, Corner ...  \n",
       "4  [Storage Units, Dishwasher, Microwave, Corner ...  \n",
       "5  [Storage Units, Dishwasher, Microwave, Hardwoo...  \n",
       "6  [Storage Units, Dishwasher, Microwave, City Vi...  \n",
       "7  [Storage Units, Dishwasher, Microwave, City Vi...  "
      ]
     },
     "execution_count": 214,
     "metadata": {},
     "output_type": "execute_result"
    }
   ],
   "source": [
    "df"
   ]
  },
  {
   "cell_type": "code",
   "execution_count": null,
   "metadata": {},
   "outputs": [],
   "source": []
  }
 ],
 "metadata": {
  "kernelspec": {
   "display_name": "Python 3 (ipykernel)",
   "language": "python",
   "name": "python3"
  },
  "language_info": {
   "codemirror_mode": {
    "name": "ipython",
    "version": 3
   },
   "file_extension": ".py",
   "mimetype": "text/x-python",
   "name": "python",
   "nbconvert_exporter": "python",
   "pygments_lexer": "ipython3",
   "version": "3.7.0"
  }
 },
 "nbformat": 4,
 "nbformat_minor": 2
}
